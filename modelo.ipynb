{
 "cells": [
  {
   "cell_type": "code",
   "execution_count": 9,
   "metadata": {},
   "outputs": [],
   "source": [
    "import spacy\n",
    "from spacy.matcher import Matcher\n",
    "from flask import Flask, render_template, request\n",
    "\n",
    "# Carregar o modelo de NLP\n",
    "nlp = spacy.load(\"pt_core_news_sm\")\n",
    "\n"
   ]
  },
  {
   "cell_type": "code",
   "execution_count": 10,
   "metadata": {},
   "outputs": [],
   "source": [
    "# Função para extrair termos e obrigações\n",
    "def extrair_termose_obrigacoes(texto):\n",
    "    doc = nlp(texto)\n",
    "    termos_obrigacoes = []\n",
    "    \n",
    "    for ent in doc.ents:\n",
    "        termos_obrigacoes.append(ent.text.lower())\n",
    "    \n",
    "    return set(termos_obrigacoes)\n",
    "\n",
    "# Função para analisar disparidades\n",
    "def analisar_disparidades(texto1, texto2):\n",
    "    termos1 = extrair_termose_obrigacoes(texto1)\n",
    "    termos2 = extrair_termose_obrigacoes(texto2)\n",
    "    \n",
    "    disparidades = termos1.symmetric_difference(termos2)\n",
    "    \n",
    "    return disparidades\n",
    "\n",
    "# Função para identificar cláusulas abusivas\n",
    "def identificar_clausulas_abusivas(texto):\n",
    "    abusivas = []\n",
    "    \n",
    "    abusiva_padroes = [\n",
    "        \"renúncia a direitos\",\n",
    "        \"obrigação excessiva\",\n",
    "        \"desvantagem exagerada\",\n",
    "        \"penalidades desproporcionais\",\n",
    "        \"cláusula unilateral\",\n",
    "    ]\n",
    "    \n",
    "    for padrao in abusiva_padroes:\n",
    "        if padrao in texto.lower():\n",
    "            abusivas.append(padrao)\n",
    "    \n",
    "    return abusivas\n"
   ]
  },
  {
   "cell_type": "code",
   "execution_count": 11,
   "metadata": {},
   "outputs": [
    {
     "name": "stdout",
     "output_type": "stream",
     "text": [
      " * Serving Flask app '__main__'\n",
      " * Debug mode: on\n"
     ]
    },
    {
     "name": "stderr",
     "output_type": "stream",
     "text": [
      "WARNING: This is a development server. Do not use it in a production deployment. Use a production WSGI server instead.\n",
      " * Running on http://127.0.0.1:5000\n",
      "Press CTRL+C to quit\n",
      " * Restarting with watchdog (inotify)\n",
      "Traceback (most recent call last):\n",
      "  File \"/usr/lib/python3.10/runpy.py\", line 196, in _run_module_as_main\n",
      "    return _run_code(code, main_globals, None,\n",
      "  File \"/usr/lib/python3.10/runpy.py\", line 86, in _run_code\n",
      "    exec(code, run_globals)\n",
      "  File \"/home/caio/.local/lib/python3.10/site-packages/ipykernel_launcher.py\", line 18, in <module>\n",
      "    app.launch_new_instance()\n",
      "  File \"/home/caio/.local/lib/python3.10/site-packages/traitlets/config/application.py\", line 1074, in launch_instance\n",
      "    app.initialize(argv)\n",
      "  File \"/home/caio/.local/lib/python3.10/site-packages/traitlets/config/application.py\", line 118, in inner\n",
      "    return method(app, *args, **kwargs)\n",
      "  File \"/home/caio/.local/lib/python3.10/site-packages/ipykernel/kernelapp.py\", line 692, in initialize\n",
      "    self.init_sockets()\n",
      "  File \"/home/caio/.local/lib/python3.10/site-packages/ipykernel/kernelapp.py\", line 331, in init_sockets\n",
      "    self.shell_port = self._bind_socket(self.shell_socket, self.shell_port)\n",
      "  File \"/home/caio/.local/lib/python3.10/site-packages/ipykernel/kernelapp.py\", line 253, in _bind_socket\n",
      "    return self._try_bind_socket(s, port)\n",
      "  File \"/home/caio/.local/lib/python3.10/site-packages/ipykernel/kernelapp.py\", line 229, in _try_bind_socket\n",
      "    s.bind(\"tcp://%s:%i\" % (self.ip, port))\n",
      "  File \"/home/caio/.local/lib/python3.10/site-packages/zmq/sugar/socket.py\", line 311, in bind\n",
      "    super().bind(addr)\n",
      "  File \"_zmq.py\", line 898, in zmq.backend.cython._zmq.Socket.bind\n",
      "  File \"_zmq.py\", line 160, in zmq.backend.cython._zmq._check_rc\n",
      "zmq.error.ZMQError: Address already in use (addr='tcp://127.0.0.1:9007')\n"
     ]
    },
    {
     "ename": "SystemExit",
     "evalue": "1",
     "output_type": "error",
     "traceback": [
      "An exception has occurred, use %tb to see the full traceback.\n",
      "\u001b[0;31mSystemExit\u001b[0m\u001b[0;31m:\u001b[0m 1\n"
     ]
    }
   ],
   "source": [
    "app = Flask(__name__)\n",
    "\n",
    "@app.route('/')\n",
    "def home():\n",
    "    return render_template('index.html')\n",
    "\n",
    "@app.route('/analisar', methods=['POST'])\n",
    "def analisar():\n",
    "    texto1 = request.form['texto1']\n",
    "    texto2 = request.form['texto2']\n",
    "    \n",
    "    disparidades = analisar_disparidades(texto1, texto2)\n",
    "    abusivas_texto1 = identificar_clausulas_abusivas(texto1)\n",
    "    abusivas_texto2 = identificar_clausulas_abusivas(texto2)\n",
    "    \n",
    "    return render_template('resultado.html', disparidades=disparidades, abusivas_texto1=abusivas_texto1, abusivas_texto2=abusivas_texto2)\n",
    "\n",
    "if __name__ == '__main__':\n",
    "    app.run(debug=True)\n",
    "\n"
   ]
  },
  {
   "cell_type": "code",
   "execution_count": null,
   "metadata": {},
   "outputs": [
    {
     "name": "stdout",
     "output_type": "stream",
     "text": [
      " * Serving Flask app '__main__'\n",
      " * Debug mode: on\n"
     ]
    },
    {
     "name": "stderr",
     "output_type": "stream",
     "text": [
      "WARNING: This is a development server. Do not use it in a production deployment. Use a production WSGI server instead.\n",
      " * Running on http://127.0.0.1:5000\n",
      "Press CTRL+C to quit\n",
      " * Restarting with watchdog (inotify)\n",
      "Traceback (most recent call last):\n",
      "  File \"/usr/lib/python3.10/runpy.py\", line 196, in _run_module_as_main\n",
      "    return _run_code(code, main_globals, None,\n",
      "  File \"/usr/lib/python3.10/runpy.py\", line 86, in _run_code\n",
      "    exec(code, run_globals)\n",
      "  File \"/home/caio/.local/lib/python3.10/site-packages/ipykernel_launcher.py\", line 18, in <module>\n",
      "    app.launch_new_instance()\n",
      "  File \"/home/caio/.local/lib/python3.10/site-packages/traitlets/config/application.py\", line 1074, in launch_instance\n",
      "    app.initialize(argv)\n",
      "  File \"/home/caio/.local/lib/python3.10/site-packages/traitlets/config/application.py\", line 118, in inner\n",
      "    return method(app, *args, **kwargs)\n",
      "  File \"/home/caio/.local/lib/python3.10/site-packages/ipykernel/kernelapp.py\", line 692, in initialize\n",
      "    self.init_sockets()\n",
      "  File \"/home/caio/.local/lib/python3.10/site-packages/ipykernel/kernelapp.py\", line 331, in init_sockets\n",
      "    self.shell_port = self._bind_socket(self.shell_socket, self.shell_port)\n",
      "  File \"/home/caio/.local/lib/python3.10/site-packages/ipykernel/kernelapp.py\", line 253, in _bind_socket\n",
      "    return self._try_bind_socket(s, port)\n",
      "  File \"/home/caio/.local/lib/python3.10/site-packages/ipykernel/kernelapp.py\", line 229, in _try_bind_socket\n",
      "    s.bind(\"tcp://%s:%i\" % (self.ip, port))\n",
      "  File \"/home/caio/.local/lib/python3.10/site-packages/zmq/sugar/socket.py\", line 311, in bind\n",
      "    super().bind(addr)\n",
      "  File \"_zmq.py\", line 898, in zmq.backend.cython._zmq.Socket.bind\n",
      "  File \"_zmq.py\", line 160, in zmq.backend.cython._zmq._check_rc\n",
      "zmq.error.ZMQError: Address already in use (addr='tcp://127.0.0.1:9007')\n"
     ]
    },
    {
     "ename": "SystemExit",
     "evalue": "1",
     "output_type": "error",
     "traceback": [
      "An exception has occurred, use %tb to see the full traceback.\n",
      "\u001b[0;31mSystemExit\u001b[0m\u001b[0;31m:\u001b[0m 1\n"
     ]
    }
   ],
   "source": [
    "<!DOCTYPE html>\n",
    "<html lang=\"pt-br\">\n",
    "<head>\n",
    "    <meta charset=\"UTF-8\">\n",
    "    <meta name=\"viewport\" content=\"width=device-width, initial-scale=1.0\">\n",
    "    <title>Assistente de Contratos</title>\n",
    "</head>\n",
    "<body>\n",
    "    <h1>Assistente de Contratos</h1>\n",
    "    <form action=\"/analisar\" method=\"post\">\n",
    "        <label for=\"texto1\">Texto da Cláusula da Parte A:</label><br>\n",
    "        <textarea id=\"texto1\" name=\"texto1\" rows=\"4\" cols=\"50\"></textarea><br><br>\n",
    "        <label for=\"texto2\">Texto da Cláusula da Parte B:</label><br>\n",
    "        <textarea id=\"texto2\" name=\"texto2\" rows=\"4\" cols=\"50\"></textarea><br><br>\n",
    "        <input type=\"submit\" value=\"Analisar\">\n",
    "    </form>\n",
    "</body>\n",
    "</html>\n"
   ]
  },
  {
   "cell_type": "code",
   "execution_count": null,
   "metadata": {},
   "outputs": [],
   "source": [
    "<!DOCTYPE html>\n",
    "<html lang=\"pt-br\">\n",
    "<head>\n",
    "    <meta charset=\"UTF-8\">\n",
    "    <meta name=\"viewport\" content=\"width=device-width, initial-scale=1.0\">\n",
    "    <title>Resultado da Análise</title>\n",
    "</head>\n",
    "<body>\n",
    "    <h1>Resultado da Análise</h1>\n",
    "\n",
    "    <h2>Disparidades Identificadas:</h2>\n",
    "    <ul>\n",
    "        {% for disparidade in disparidades %}\n",
    "            <li>{{ disparidade }}</li>\n",
    "        {% endfor %}\n",
    "    </ul>\n",
    "\n",
    "    <h2>Cláusulas Abusivas na Parte A:</h2>\n",
    "    <ul>\n",
    "        {% for abusiva in abusivas_texto1 %}\n",
    "            <li>{{ abusiva }}</li>\n",
    "        {% endfor %}\n",
    "    </ul>\n",
    "\n",
    "    <h2>Cláusulas Abusivas na Parte B:</h2>\n",
    "    <ul>\n",
    "        {% for abusiva in abusivas_texto2 %}\n",
    "            <li>{{ abusiva }}</li>\n",
    "        {% endfor %}\n",
    "    </ul>\n",
    "    \n",
    "    <a href=\"/\">Voltar</a>\n",
    "</body>\n",
    "</html>\n"
   ]
  },
  {
   "cell_type": "code",
   "execution_count": null,
   "metadata": {},
   "outputs": [],
   "source": [
    "# Executar o servidor\n",
    "!flask run\n"
   ]
  }
 ],
 "metadata": {
  "kernelspec": {
   "display_name": "Python 3",
   "language": "python",
   "name": "python3"
  },
  "language_info": {
   "codemirror_mode": {
    "name": "ipython",
    "version": 3
   },
   "file_extension": ".py",
   "mimetype": "text/x-python",
   "name": "python",
   "nbconvert_exporter": "python",
   "pygments_lexer": "ipython3",
   "version": "3.10.12"
  }
 },
 "nbformat": 4,
 "nbformat_minor": 2
}
